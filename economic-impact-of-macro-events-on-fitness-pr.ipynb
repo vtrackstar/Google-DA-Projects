{
 "cells": [
  {
   "cell_type": "markdown",
   "id": "83099980",
   "metadata": {
    "papermill": {
     "duration": 0.003592,
     "end_time": "2025-05-24T13:39:01.082172",
     "exception": false,
     "start_time": "2025-05-24T13:39:01.078580",
     "status": "completed"
    },
    "tags": []
   },
   "source": [
    "# Analyzing Economic and Fitness-Related Google Trends During the COVID-19 Pandemic\n",
    "\n",
    "## Project Overview\n",
    "This project investigates the relationship between macroeconomic indicators and fitness-related search behavior in the United States during the COVID-19 pandemic period. By combining official economic data from FRED (Federal Reserve Economic Data) with Google Trends data focused on home fitness equipment, gyms, and group fitness, we aim to understand how consumer interest shifted in response to economic and social changes.\n",
    "\n",
    "## Data Sources\n",
    "### FRED Economic Indicators (CSV files):\n",
    "* US Recession Indicator (USREC)\n",
    "* Unemployment Rate (UNRATE)\n",
    "* Consumer Price Index (CPI)\n",
    "* Consumer Sentiment Index\n",
    "* Personal Consumption Expenditure (PCE) for recreation services and goods\n",
    "\n",
    "### Google Trends Data (CSV files):\n",
    "* Home equipment fitness keywords\n",
    "* Traditional gym keywords\n",
    "* Search shifts from gym to home workouts\n",
    "* Group fitness keywords\n",
    "\n",
    "### Project Goals\n",
    "* Load and clean multiple datasets consistently\n",
    "* Reshape Google Trends data into a tidy format for analysis\n",
    "* Combine economic and search interest data for comparative analysis\n",
    "* Explore trends in home fitness equipment interest vs. traditional gyms\n",
    "* Lay groundwork for predictive modeling or visualization"
   ]
  },
  {
   "cell_type": "code",
   "execution_count": 1,
   "id": "1084ae28",
   "metadata": {
    "_cell_guid": "b1076dfc-b9ad-4769-8c92-a6c4dae69d19",
    "_uuid": "8f2839f25d086af736a60e9eeb907d3b93b6e0e5",
    "execution": {
     "iopub.execute_input": "2025-05-24T13:39:01.090502Z",
     "iopub.status.busy": "2025-05-24T13:39:01.089829Z",
     "iopub.status.idle": "2025-05-24T13:39:03.468468Z",
     "shell.execute_reply": "2025-05-24T13:39:03.467317Z"
    },
    "papermill": {
     "duration": 2.384811,
     "end_time": "2025-05-24T13:39:03.470564",
     "exception": false,
     "start_time": "2025-05-24T13:39:01.085753",
     "status": "completed"
    },
    "tags": []
   },
   "outputs": [
    {
     "name": "stdout",
     "output_type": "stream",
     "text": [
      "/kaggle/input/data-science-econ-health-port-proj/google_trends_group_fitness.csv\n",
      "/kaggle/input/data-science-econ-health-port-proj/fred_consumer_sentiment.csv\n",
      "/kaggle/input/data-science-econ-health-port-proj/fred_pce_recreation_goods.csv\n",
      "/kaggle/input/data-science-econ-health-port-proj/fred_UNRATE.csv\n",
      "/kaggle/input/data-science-econ-health-port-proj/google_trends_gym_home_shift.csv\n",
      "/kaggle/input/data-science-econ-health-port-proj/fred_USREC.csv\n",
      "/kaggle/input/data-science-econ-health-port-proj/google_trends_traditional_gyms.csv\n",
      "/kaggle/input/data-science-econ-health-port-proj/fred_pce_recreation_services.csv\n",
      "/kaggle/input/data-science-econ-health-port-proj/fred_CPI.csv\n",
      "/kaggle/input/data-science-econ-health-port-proj/google_trends_home_equipment.csv\n"
     ]
    }
   ],
   "source": [
    "# This Python 3 environment comes with many helpful analytics libraries installed\n",
    "# It is defined by the kaggle/python Docker image: https://github.com/kaggle/docker-python\n",
    "# For example, here's several helpful packages to load\n",
    "\n",
    "import numpy as np # linear algebra\n",
    "import pandas as pd # data processing, CSV file I/O (e.g. pd.read_csv)\n",
    "import matplotlib.pyplot as plt\n",
    "\n",
    "# Input data files are available in the read-only \"../input/\" directory\n",
    "# For example, running this (by clicking run or pressing Shift+Enter) will list all files under the input directory\n",
    "\n",
    "import os\n",
    "for dirname, _, filenames in os.walk('/kaggle/input'):\n",
    "    for filename in filenames:\n",
    "        print(os.path.join(dirname, filename))\n",
    "\n",
    "# You can write up to 20GB to the current directory (/kaggle/working/) that gets preserved as output when you create a version using \"Save & Run All\" \n",
    "# You can also write temporary files to /kaggle/temp/, but they won't be saved outside of the current session"
   ]
  },
  {
   "cell_type": "code",
   "execution_count": 2,
   "id": "48c7a46d",
   "metadata": {
    "execution": {
     "iopub.execute_input": "2025-05-24T13:39:03.477815Z",
     "iopub.status.busy": "2025-05-24T13:39:03.477409Z",
     "iopub.status.idle": "2025-05-24T13:39:03.524261Z",
     "shell.execute_reply": "2025-05-24T13:39:03.523207Z"
    },
    "papermill": {
     "duration": 0.052184,
     "end_time": "2025-05-24T13:39:03.525879",
     "exception": false,
     "start_time": "2025-05-24T13:39:03.473695",
     "status": "completed"
    },
    "tags": []
   },
   "outputs": [
    {
     "data": {
      "text/html": [
       "<div>\n",
       "<style scoped>\n",
       "    .dataframe tbody tr th:only-of-type {\n",
       "        vertical-align: middle;\n",
       "    }\n",
       "\n",
       "    .dataframe tbody tr th {\n",
       "        vertical-align: top;\n",
       "    }\n",
       "\n",
       "    .dataframe thead th {\n",
       "        text-align: right;\n",
       "    }\n",
       "</style>\n",
       "<table border=\"1\" class=\"dataframe\">\n",
       "  <thead>\n",
       "    <tr style=\"text-align: right;\">\n",
       "      <th></th>\n",
       "      <th>observation_date</th>\n",
       "      <th>USREC</th>\n",
       "    </tr>\n",
       "  </thead>\n",
       "  <tbody>\n",
       "    <tr>\n",
       "      <th>0</th>\n",
       "      <td>1854-12-01</td>\n",
       "      <td>1</td>\n",
       "    </tr>\n",
       "    <tr>\n",
       "      <th>1</th>\n",
       "      <td>1855-01-01</td>\n",
       "      <td>0</td>\n",
       "    </tr>\n",
       "    <tr>\n",
       "      <th>2</th>\n",
       "      <td>1855-02-01</td>\n",
       "      <td>0</td>\n",
       "    </tr>\n",
       "    <tr>\n",
       "      <th>3</th>\n",
       "      <td>1855-03-01</td>\n",
       "      <td>0</td>\n",
       "    </tr>\n",
       "    <tr>\n",
       "      <th>4</th>\n",
       "      <td>1855-04-01</td>\n",
       "      <td>0</td>\n",
       "    </tr>\n",
       "  </tbody>\n",
       "</table>\n",
       "</div>"
      ],
      "text/plain": [
       "  observation_date  USREC\n",
       "0       1854-12-01      1\n",
       "1       1855-01-01      0\n",
       "2       1855-02-01      0\n",
       "3       1855-03-01      0\n",
       "4       1855-04-01      0"
      ]
     },
     "execution_count": 2,
     "metadata": {},
     "output_type": "execute_result"
    }
   ],
   "source": [
    "# Preview the USREC dataset to understand its structure\n",
    "df_usrec_preview = pd.read_csv('/kaggle/input/data-science-econ-health-port-proj/fred_USREC.csv')\n",
    "df_usrec_preview.head()"
   ]
  },
  {
   "cell_type": "code",
   "execution_count": 3,
   "id": "c7decdf0",
   "metadata": {
    "execution": {
     "iopub.execute_input": "2025-05-24T13:39:03.533495Z",
     "iopub.status.busy": "2025-05-24T13:39:03.533076Z",
     "iopub.status.idle": "2025-05-24T13:39:03.541379Z",
     "shell.execute_reply": "2025-05-24T13:39:03.540455Z"
    },
    "papermill": {
     "duration": 0.013853,
     "end_time": "2025-05-24T13:39:03.542817",
     "exception": false,
     "start_time": "2025-05-24T13:39:03.528964",
     "status": "completed"
    },
    "tags": []
   },
   "outputs": [
    {
     "data": {
      "text/plain": [
       "Index(['observation_date', 'USREC'], dtype='object')"
      ]
     },
     "execution_count": 3,
     "metadata": {},
     "output_type": "execute_result"
    }
   ],
   "source": [
    "# Print column names for reference\n",
    "df_usrec_preview.columns"
   ]
  },
  {
   "cell_type": "code",
   "execution_count": 4,
   "id": "2511ff0d",
   "metadata": {
    "execution": {
     "iopub.execute_input": "2025-05-24T13:39:03.550868Z",
     "iopub.status.busy": "2025-05-24T13:39:03.550070Z",
     "iopub.status.idle": "2025-05-24T13:39:03.599525Z",
     "shell.execute_reply": "2025-05-24T13:39:03.598560Z"
    },
    "papermill": {
     "duration": 0.055196,
     "end_time": "2025-05-24T13:39:03.601222",
     "exception": false,
     "start_time": "2025-05-24T13:39:03.546026",
     "status": "completed"
    },
    "tags": []
   },
   "outputs": [],
   "source": [
    "# Function to load and preprocess FRED economic datasets\n",
    "def load_fred_data(file_path):\n",
    "    # Load the CSV and parse the date column\n",
    "    df = pd.read_csv(file_path, parse_dates=['observation_date'])\n",
    "    \n",
    "    # Rename the date column for consistency\n",
    "    df.rename(columns={'observation_date': 'date'}, inplace=True)\n",
    "    \n",
    "    return df\n",
    "\n",
    "# Load each FRED dataset\n",
    "usrec = load_fred_data('/kaggle/input/data-science-econ-health-port-proj/fred_USREC.csv')\n",
    "unrate = load_fred_data('/kaggle/input/data-science-econ-health-port-proj/fred_UNRATE.csv')\n",
    "cpi = load_fred_data('/kaggle/input/data-science-econ-health-port-proj/fred_CPI.csv')\n",
    "sentiment = load_fred_data('/kaggle/input/data-science-econ-health-port-proj/fred_consumer_sentiment.csv')\n",
    "pce_services = load_fred_data('/kaggle/input/data-science-econ-health-port-proj/fred_pce_recreation_services.csv')\n",
    "pce_goods = load_fred_data('/kaggle/input/data-science-econ-health-port-proj/fred_pce_recreation_goods.csv')"
   ]
  },
  {
   "cell_type": "code",
   "execution_count": 5,
   "id": "3d1a3a7b",
   "metadata": {
    "execution": {
     "iopub.execute_input": "2025-05-24T13:39:03.609086Z",
     "iopub.status.busy": "2025-05-24T13:39:03.608718Z",
     "iopub.status.idle": "2025-05-24T13:39:03.636749Z",
     "shell.execute_reply": "2025-05-24T13:39:03.635801Z"
    },
    "papermill": {
     "duration": 0.033892,
     "end_time": "2025-05-24T13:39:03.638532",
     "exception": false,
     "start_time": "2025-05-24T13:39:03.604640",
     "status": "completed"
    },
    "tags": []
   },
   "outputs": [
    {
     "name": "stdout",
     "output_type": "stream",
     "text": [
      "Index(['Category: All categories'], dtype='object')\n",
      "                                                                                                                                                     Category: All categories\n",
      "Week       weights for home: (United States) yoga mat: (United States) running shoes: (United States) resistance bands: (United States)  adjustable dumbbell: (United States)\n",
      "2020-05-24 1                                 19                        94                             21                                                                    4\n",
      "2020-05-31 1                                 16                        89                             17                                                                    3\n",
      "2020-06-07 1                                 16                        87                             18                                                                    4\n",
      "2020-06-14 1                                 16                        89                             16                                                                    4\n"
     ]
    }
   ],
   "source": [
    "# Preview one of the Google Trends CSV files to inspect column names and format\n",
    "temp = pd.read_csv('/kaggle/input/data-science-econ-health-port-proj/google_trends_home_equipment.csv')\n",
    "print(temp.columns)\n",
    "print(temp.head())"
   ]
  },
  {
   "cell_type": "code",
   "execution_count": 6,
   "id": "da3414b1",
   "metadata": {
    "execution": {
     "iopub.execute_input": "2025-05-24T13:39:03.650652Z",
     "iopub.status.busy": "2025-05-24T13:39:03.650323Z",
     "iopub.status.idle": "2025-05-24T13:39:03.656691Z",
     "shell.execute_reply": "2025-05-24T13:39:03.655735Z"
    },
    "papermill": {
     "duration": 0.014705,
     "end_time": "2025-05-24T13:39:03.658807",
     "exception": false,
     "start_time": "2025-05-24T13:39:03.644102",
     "status": "completed"
    },
    "tags": []
   },
   "outputs": [],
   "source": [
    "# Function to load and clean Google Trends data files\n",
    "def clean_trends_data(file_path):\n",
    "    df = pd.read_csv(file_path, skiprows=1)  # skip the first row\n",
    "    df.rename(columns={df.columns[0]: 'date'}, inplace=True)\n",
    "    df['date'] = pd.to_datetime(df['date'])\n",
    "    return df"
   ]
  },
  {
   "cell_type": "code",
   "execution_count": 7,
   "id": "a6080c00",
   "metadata": {
    "execution": {
     "iopub.execute_input": "2025-05-24T13:39:03.671108Z",
     "iopub.status.busy": "2025-05-24T13:39:03.670806Z",
     "iopub.status.idle": "2025-05-24T13:39:03.701465Z",
     "shell.execute_reply": "2025-05-24T13:39:03.700496Z"
    },
    "papermill": {
     "duration": 0.038654,
     "end_time": "2025-05-24T13:39:03.703164",
     "exception": false,
     "start_time": "2025-05-24T13:39:03.664510",
     "status": "completed"
    },
    "tags": []
   },
   "outputs": [],
   "source": [
    "# Load and clean each Google Trends dataset by category\n",
    "trends_home_equipment = clean_trends_data('/kaggle/input/data-science-econ-health-port-proj/google_trends_home_equipment.csv')\n",
    "trends_traditional_gyms = clean_trends_data('/kaggle/input/data-science-econ-health-port-proj/google_trends_traditional_gyms.csv')\n",
    "trends_gym_home_shift = clean_trends_data('/kaggle/input/data-science-econ-health-port-proj/google_trends_gym_home_shift.csv')\n",
    "trends_group_fitness = clean_trends_data('/kaggle/input/data-science-econ-health-port-proj/google_trends_group_fitness.csv')"
   ]
  },
  {
   "cell_type": "code",
   "execution_count": 8,
   "id": "157c6152",
   "metadata": {
    "execution": {
     "iopub.execute_input": "2025-05-24T13:39:03.710786Z",
     "iopub.status.busy": "2025-05-24T13:39:03.710482Z",
     "iopub.status.idle": "2025-05-24T13:39:03.715308Z",
     "shell.execute_reply": "2025-05-24T13:39:03.714457Z"
    },
    "papermill": {
     "duration": 0.010412,
     "end_time": "2025-05-24T13:39:03.716869",
     "exception": false,
     "start_time": "2025-05-24T13:39:03.706457",
     "status": "completed"
    },
    "tags": []
   },
   "outputs": [],
   "source": [
    "# Function to reshape wide-format Google Trends data into a long tidy format\n",
    "def reshape_trends(df, trend_label):\n",
    "    df_long = df.melt(id_vars='date', var_name='keyword', value_name='search_interest')\n",
    "    df_long['trend_type'] = trend_label\n",
    "    return df_long"
   ]
  },
  {
   "cell_type": "code",
   "execution_count": 9,
   "id": "4001b198",
   "metadata": {
    "execution": {
     "iopub.execute_input": "2025-05-24T13:39:03.724910Z",
     "iopub.status.busy": "2025-05-24T13:39:03.724601Z",
     "iopub.status.idle": "2025-05-24T13:39:03.743975Z",
     "shell.execute_reply": "2025-05-24T13:39:03.743053Z"
    },
    "papermill": {
     "duration": 0.025011,
     "end_time": "2025-05-24T13:39:03.745446",
     "exception": false,
     "start_time": "2025-05-24T13:39:03.720435",
     "status": "completed"
    },
    "tags": []
   },
   "outputs": [],
   "source": [
    "# Apply reshaping to each Google Trends dataset, tagging by trend category\n",
    "home_equipment_long = reshape_trends(trends_home_equipment, 'Home Equipment')\n",
    "traditional_gyms_long = reshape_trends(trends_traditional_gyms, 'Traditional Gyms')\n",
    "gym_home_shift_long = reshape_trends(trends_gym_home_shift, 'Gym vs Home Shift')\n",
    "group_fitness_long = reshape_trends(trends_group_fitness, 'Group Fitness')"
   ]
  },
  {
   "cell_type": "code",
   "execution_count": 10,
   "id": "30a80312",
   "metadata": {
    "execution": {
     "iopub.execute_input": "2025-05-24T13:39:03.753500Z",
     "iopub.status.busy": "2025-05-24T13:39:03.752773Z",
     "iopub.status.idle": "2025-05-24T13:39:03.759463Z",
     "shell.execute_reply": "2025-05-24T13:39:03.758599Z"
    },
    "papermill": {
     "duration": 0.012287,
     "end_time": "2025-05-24T13:39:03.760990",
     "exception": false,
     "start_time": "2025-05-24T13:39:03.748703",
     "status": "completed"
    },
    "tags": []
   },
   "outputs": [],
   "source": [
    "# Combine all reshaped trends data into a single DataFrame for unified analysis\n",
    "all_trends = pd.concat([\n",
    "    home_equipment_long,\n",
    "    traditional_gyms_long,\n",
    "    gym_home_shift_long,\n",
    "    group_fitness_long\n",
    "], ignore_index=True)"
   ]
  },
  {
   "cell_type": "code",
   "execution_count": 11,
   "id": "8b914672",
   "metadata": {
    "execution": {
     "iopub.execute_input": "2025-05-24T13:39:03.768621Z",
     "iopub.status.busy": "2025-05-24T13:39:03.768315Z",
     "iopub.status.idle": "2025-05-24T13:39:03.779321Z",
     "shell.execute_reply": "2025-05-24T13:39:03.778473Z"
    },
    "papermill": {
     "duration": 0.016497,
     "end_time": "2025-05-24T13:39:03.780806",
     "exception": false,
     "start_time": "2025-05-24T13:39:03.764309",
     "status": "completed"
    },
    "tags": []
   },
   "outputs": [
    {
     "data": {
      "text/plain": [
       "trend_type\n",
       "Home Equipment       1305\n",
       "Traditional Gyms     1305\n",
       "Gym vs Home Shift    1305\n",
       "Group Fitness        1305\n",
       "Name: count, dtype: int64"
      ]
     },
     "execution_count": 11,
     "metadata": {},
     "output_type": "execute_result"
    }
   ],
   "source": [
    "# Preview the combined trends data\n",
    "all_trends.head()\n",
    "\n",
    "# Check how many records belong to each trend type to verify data completeness\n",
    "all_trends['trend_type'].value_counts()"
   ]
  }
 ],
 "metadata": {
  "kaggle": {
   "accelerator": "none",
   "dataSources": [
    {
     "datasetId": 7502638,
     "sourceId": 11933524,
     "sourceType": "datasetVersion"
    }
   ],
   "dockerImageVersionId": 31040,
   "isGpuEnabled": false,
   "isInternetEnabled": true,
   "language": "python",
   "sourceType": "notebook"
  },
  "kernelspec": {
   "display_name": "Python 3",
   "language": "python",
   "name": "python3"
  },
  "language_info": {
   "codemirror_mode": {
    "name": "ipython",
    "version": 3
   },
   "file_extension": ".py",
   "mimetype": "text/x-python",
   "name": "python",
   "nbconvert_exporter": "python",
   "pygments_lexer": "ipython3",
   "version": "3.11.11"
  },
  "papermill": {
   "default_parameters": {},
   "duration": 8.839032,
   "end_time": "2025-05-24T13:39:04.302725",
   "environment_variables": {},
   "exception": null,
   "input_path": "__notebook__.ipynb",
   "output_path": "__notebook__.ipynb",
   "parameters": {},
   "start_time": "2025-05-24T13:38:55.463693",
   "version": "2.6.0"
  }
 },
 "nbformat": 4,
 "nbformat_minor": 5
}
