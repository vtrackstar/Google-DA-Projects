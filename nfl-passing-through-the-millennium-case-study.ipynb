{
 "cells": [
  {
   "cell_type": "markdown",
   "id": "4589b1a1",
   "metadata": {
    "papermill": {
     "duration": 0.006539,
     "end_time": "2024-08-28T17:14:35.418119",
     "exception": false,
     "start_time": "2024-08-28T17:14:35.411580",
     "status": "completed"
    },
    "tags": []
   },
   "source": [
    "## Ask and Prepare\n",
    "* **What type of company does your client represent, and what are they asking you to accomplish?**\n",
    "    * NFL management and ownership, answering style of quarterback teams should pursue to lead a high-powered offense.\n",
    "* **What are the key factors involved in the business task you are investigating?**\n",
    "    * The key factors involved in analyzing the relationship between a quarterback's archetype and their ability to throw touchdowns efficiently.\n",
    "* **What type of data will be appropriate for your analysis?**\n",
    "    * Historical data going back to 2001\n",
    "* **Where will you obtain that data?**\n",
    "    * Public Kaggle dataset\n",
    "* **Who is your audience, and what materials will help you present to them effectively?**\n",
    "    * NFL management and ownership\n",
    "    * A document highlighting the final analysis of the project"
   ]
  },
  {
   "cell_type": "code",
   "execution_count": 1,
   "id": "2646eed6",
   "metadata": {
    "_cell_guid": "b1076dfc-b9ad-4769-8c92-a6c4dae69d19",
    "_uuid": "8f2839f25d086af736a60e9eeb907d3b93b6e0e5",
    "execution": {
     "iopub.execute_input": "2024-08-28T17:14:35.428711Z",
     "iopub.status.busy": "2024-08-28T17:14:35.428087Z",
     "iopub.status.idle": "2024-08-28T17:14:35.971407Z",
     "shell.execute_reply": "2024-08-28T17:14:35.969981Z"
    },
    "papermill": {
     "duration": 0.552268,
     "end_time": "2024-08-28T17:14:35.974242",
     "exception": false,
     "start_time": "2024-08-28T17:14:35.421974",
     "status": "completed"
    },
    "tags": []
   },
   "outputs": [
    {
     "name": "stdout",
     "output_type": "stream",
     "text": [
      "Index(['Unnamed: 0', 'Player', 'Tm', 'Age', 'G', 'GS', 'Cmp', 'Att', 'Cmp%',\n",
      "       'Yds', 'TD', 'TD%', 'Int', 'Int%', '1D', 'Lng', 'Y/A', 'AY/A', 'Y/C',\n",
      "       'Y/G', 'Rate', 'Sk', 'Yds-s', 'Sk%', 'NY/A', 'ANY/A', 'Year'],\n",
      "      dtype='object')\n"
     ]
    }
   ],
   "source": [
    "# This Python 3 environment comes with many helpful analytics libraries installed\n",
    "# It is defined by the kaggle/python Docker image: https://github.com/kaggle/docker-python\n",
    "# For example, here's several helpful packages to load\n",
    "\n",
    "import numpy as np # linear algebra\n",
    "import pandas as pd # data processing, CSV file I/O (e.g. pd.read_csv)\n",
    "\n",
    "# Input data files are available in the read-only \"../input/\" directory\n",
    "# For example, running this (by clicking run or pressing Shift+Enter) will list all files under the input directory\n",
    "\n",
    "# Load the data locally\n",
    "file_path = '/kaggle/input/nfl-passing-statistics-2001-2023/passing_cleaned.csv'\n",
    "\n",
    "df = pd.read_csv(file_path)\n",
    "print(df.columns)\n",
    "\n",
    "# You can write up to 20GB to the current directory (/kaggle/working/) that gets preserved as output when you create a version using \"Save & Run All\" \n",
    "# You can also write temporary files to /kaggle/temp/, but they won't be saved outside of the current session"
   ]
  },
  {
   "cell_type": "markdown",
   "id": "a6721773",
   "metadata": {
    "papermill": {
     "duration": 0.002974,
     "end_time": "2024-08-28T17:14:35.980613",
     "exception": false,
     "start_time": "2024-08-28T17:14:35.977639",
     "status": "completed"
    },
    "tags": []
   },
   "source": [
    "## Process"
   ]
  },
  {
   "cell_type": "code",
   "execution_count": 2,
   "id": "9493c051",
   "metadata": {
    "execution": {
     "iopub.execute_input": "2024-08-28T17:14:35.989879Z",
     "iopub.status.busy": "2024-08-28T17:14:35.988890Z",
     "iopub.status.idle": "2024-08-28T17:14:36.040903Z",
     "shell.execute_reply": "2024-08-28T17:14:36.039390Z"
    },
    "papermill": {
     "duration": 0.06002,
     "end_time": "2024-08-28T17:14:36.044025",
     "exception": false,
     "start_time": "2024-08-28T17:14:35.984005",
     "status": "completed"
    },
    "tags": []
   },
   "outputs": [
    {
     "data": {
      "text/html": [
       "<div>\n",
       "<style scoped>\n",
       "    .dataframe tbody tr th:only-of-type {\n",
       "        vertical-align: middle;\n",
       "    }\n",
       "\n",
       "    .dataframe tbody tr th {\n",
       "        vertical-align: top;\n",
       "    }\n",
       "\n",
       "    .dataframe thead th {\n",
       "        text-align: right;\n",
       "    }\n",
       "</style>\n",
       "<table border=\"1\" class=\"dataframe\">\n",
       "  <thead>\n",
       "    <tr style=\"text-align: right;\">\n",
       "      <th></th>\n",
       "      <th>Player</th>\n",
       "      <th>Year</th>\n",
       "      <th>G</th>\n",
       "      <th>Rate</th>\n",
       "      <th>Yds</th>\n",
       "      <th>Att</th>\n",
       "      <th>Y/A</th>\n",
       "      <th>Cmp%</th>\n",
       "      <th>TD</th>\n",
       "      <th>TD%</th>\n",
       "      <th>Int%</th>\n",
       "      <th>Att/G</th>\n",
       "    </tr>\n",
       "  </thead>\n",
       "  <tbody>\n",
       "    <tr>\n",
       "      <th>0</th>\n",
       "      <td>Kurt Warner</td>\n",
       "      <td>2001</td>\n",
       "      <td>16</td>\n",
       "      <td>101.4</td>\n",
       "      <td>4830</td>\n",
       "      <td>546</td>\n",
       "      <td>8.8</td>\n",
       "      <td>68.7</td>\n",
       "      <td>36</td>\n",
       "      <td>6.6</td>\n",
       "      <td>4.0</td>\n",
       "      <td>34.1250</td>\n",
       "    </tr>\n",
       "    <tr>\n",
       "      <th>1</th>\n",
       "      <td>Peyton Manning</td>\n",
       "      <td>2001</td>\n",
       "      <td>16</td>\n",
       "      <td>84.1</td>\n",
       "      <td>4131</td>\n",
       "      <td>547</td>\n",
       "      <td>7.6</td>\n",
       "      <td>62.7</td>\n",
       "      <td>26</td>\n",
       "      <td>4.8</td>\n",
       "      <td>4.2</td>\n",
       "      <td>34.1875</td>\n",
       "    </tr>\n",
       "    <tr>\n",
       "      <th>2</th>\n",
       "      <td>Brett Favre</td>\n",
       "      <td>2001</td>\n",
       "      <td>16</td>\n",
       "      <td>94.1</td>\n",
       "      <td>3921</td>\n",
       "      <td>510</td>\n",
       "      <td>7.7</td>\n",
       "      <td>61.6</td>\n",
       "      <td>32</td>\n",
       "      <td>6.3</td>\n",
       "      <td>2.9</td>\n",
       "      <td>31.8750</td>\n",
       "    </tr>\n",
       "    <tr>\n",
       "      <th>3</th>\n",
       "      <td>Aaron Brooks</td>\n",
       "      <td>2001</td>\n",
       "      <td>16</td>\n",
       "      <td>76.4</td>\n",
       "      <td>3832</td>\n",
       "      <td>558</td>\n",
       "      <td>6.9</td>\n",
       "      <td>55.9</td>\n",
       "      <td>26</td>\n",
       "      <td>4.7</td>\n",
       "      <td>3.9</td>\n",
       "      <td>34.8750</td>\n",
       "    </tr>\n",
       "    <tr>\n",
       "      <th>4</th>\n",
       "      <td>Rich Gannon</td>\n",
       "      <td>2001</td>\n",
       "      <td>16</td>\n",
       "      <td>95.5</td>\n",
       "      <td>3828</td>\n",
       "      <td>549</td>\n",
       "      <td>7.0</td>\n",
       "      <td>65.8</td>\n",
       "      <td>27</td>\n",
       "      <td>4.9</td>\n",
       "      <td>1.6</td>\n",
       "      <td>34.3125</td>\n",
       "    </tr>\n",
       "  </tbody>\n",
       "</table>\n",
       "</div>"
      ],
      "text/plain": [
       "           Player  Year   G   Rate   Yds  Att  Y/A  Cmp%  TD  TD%  Int%  \\\n",
       "0     Kurt Warner  2001  16  101.4  4830  546  8.8  68.7  36  6.6   4.0   \n",
       "1  Peyton Manning  2001  16   84.1  4131  547  7.6  62.7  26  4.8   4.2   \n",
       "2     Brett Favre  2001  16   94.1  3921  510  7.7  61.6  32  6.3   2.9   \n",
       "3    Aaron Brooks  2001  16   76.4  3832  558  6.9  55.9  26  4.7   3.9   \n",
       "4     Rich Gannon  2001  16   95.5  3828  549  7.0  65.8  27  4.9   1.6   \n",
       "\n",
       "     Att/G  \n",
       "0  34.1250  \n",
       "1  34.1875  \n",
       "2  31.8750  \n",
       "3  34.8750  \n",
       "4  34.3125  "
      ]
     },
     "execution_count": 2,
     "metadata": {},
     "output_type": "execute_result"
    }
   ],
   "source": [
    "# Create new table with relevant columns and filter out players with less than 250 passing attempts in a season\n",
    "new_df = df[['Player', 'Year', 'G', 'Rate', 'Yds','Att', 'Y/A', 'Cmp%', 'TD', 'TD%', 'Int%']].copy()\n",
    "new_df['Att/G'] = new_df['Att'] / new_df['G']\n",
    "\n",
    "filtered_df = new_df[new_df['Att'] >= 250]\n",
    "filtered_df.head()"
   ]
  },
  {
   "cell_type": "markdown",
   "id": "19475a81",
   "metadata": {
    "papermill": {
     "duration": 0.003613,
     "end_time": "2024-08-28T17:14:36.051540",
     "exception": false,
     "start_time": "2024-08-28T17:14:36.047927",
     "status": "completed"
    },
    "tags": []
   },
   "source": [
    "## Analyze\n",
    "* **How should you organize your data to perform analysis on it?**\n",
    "* **Has your data been properly formatted?**\n",
    "* **What surprises did you discover in the data?**\n",
    "* **What trends or relationships did you find in the data?**\n",
    "* **How will these insights help answer your business questions?**"
   ]
  },
  {
   "cell_type": "markdown",
   "id": "ce8eaf49",
   "metadata": {
    "papermill": {
     "duration": 0.003541,
     "end_time": "2024-08-28T17:14:36.059788",
     "exception": false,
     "start_time": "2024-08-28T17:14:36.056247",
     "status": "completed"
    },
    "tags": []
   },
   "source": [
    "## Share\n",
    "* **Were you able to answer the business question?**\n",
    "* **What story does your data tell?**\n",
    "* **How do your findings relate to your original question?**\n",
    "* **Who is your audience? What is the best way to communicate with them?**\n",
    "* **Can data visualization help you share your findings?**\n",
    "* **Is your presentation accessible to your audience?**"
   ]
  },
  {
   "cell_type": "markdown",
   "id": "a470ed42",
   "metadata": {
    "papermill": {
     "duration": 0.003414,
     "end_time": "2024-08-28T17:14:36.066995",
     "exception": false,
     "start_time": "2024-08-28T17:14:36.063581",
     "status": "completed"
    },
    "tags": []
   },
   "source": [
    "## Act\n",
    "* **What is your final conclusion based on your analysis?**\n",
    "* **How could your team and business apply your insights?**\n",
    "* **What next steps would you or your stakeholders take based on your findings?**\n",
    "* **Is there additional data you could use to expand on your findings?**"
   ]
  }
 ],
 "metadata": {
  "kaggle": {
   "accelerator": "none",
   "dataSources": [
    {
     "datasetId": 4533827,
     "sourceId": 8002404,
     "sourceType": "datasetVersion"
    }
   ],
   "dockerImageVersionId": 30761,
   "isGpuEnabled": false,
   "isInternetEnabled": true,
   "language": "python",
   "sourceType": "notebook"
  },
  "kernelspec": {
   "display_name": "Python 3",
   "language": "python",
   "name": "python3"
  },
  "language_info": {
   "codemirror_mode": {
    "name": "ipython",
    "version": 3
   },
   "file_extension": ".py",
   "mimetype": "text/x-python",
   "name": "python",
   "nbconvert_exporter": "python",
   "pygments_lexer": "ipython3",
   "version": "3.10.14"
  },
  "papermill": {
   "default_parameters": {},
   "duration": 4.36714,
   "end_time": "2024-08-28T17:14:36.593403",
   "environment_variables": {},
   "exception": null,
   "input_path": "__notebook__.ipynb",
   "output_path": "__notebook__.ipynb",
   "parameters": {},
   "start_time": "2024-08-28T17:14:32.226263",
   "version": "2.6.0"
  }
 },
 "nbformat": 4,
 "nbformat_minor": 5
}
